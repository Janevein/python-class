{
  "nbformat": 4,
  "nbformat_minor": 0,
  "metadata": {
    "colab": {
      "provenance": []
    },
    "kernelspec": {
      "name": "python3",
      "display_name": "Python 3"
    },
    "language_info": {
      "name": "python"
    }
  },
  "cells": [
    {
      "cell_type": "code",
      "execution_count": null,
      "metadata": {
        "id": "9qsSHyg3-yda"
      },
      "outputs": [],
      "source": [
        "(lambda x: x**2)(3)\n",
        "(lambda x, y: x -y)(9,7)"
      ]
    },
    {
      "cell_type": "code",
      "source": [
        "(lambda str, num: str*num) (\" Myo\", 5)"
      ],
      "metadata": {
        "id": "NUzbSKWL-zsr"
      },
      "execution_count": null,
      "outputs": []
    },
    {
      "cell_type": "code",
      "source": [
        "(lambda num: 2023 - num) (2004)"
      ],
      "metadata": {
        "id": "8V8xADfE-0Fa"
      },
      "execution_count": null,
      "outputs": []
    },
    {
      "cell_type": "code",
      "source": [
        "year_list = [1998, 1993, 2000, 2001, 1999, 2023, 1996]\n",
        "age = (lambda year: c_year - year)\n",
        "c_year = 2023\n",
        "list_year = list(map(age, year_list))\n",
        "print (list_year)"
      ],
      "metadata": {
        "id": "5O9OZxTf-0Qi"
      },
      "execution_count": null,
      "outputs": []
    },
    {
      "cell_type": "code",
      "source": [
        "c_year = 2023\n",
        "(lambda year: c_year - year)(2004)"
      ],
      "metadata": {
        "id": "2596L9xT-8Cy"
      },
      "execution_count": null,
      "outputs": []
    },
    {
      "cell_type": "code",
      "source": [
        "year_list = [1998, 1993, 2000, 2001, 1999, 2023, 1996]\n",
        "a = \"too young\"\n",
        "b = \"too old\"\n",
        "judgement = lambda year_list: ( a if year_list < 2000 else b)\n",
        "judgement_condition = list (map(judgement, year_list))\n",
        "print (judgement_condition)\n"
      ],
      "metadata": {
        "id": "z_oMn83J_Aif"
      },
      "execution_count": null,
      "outputs": []
    },
    {
      "cell_type": "code",
      "source": [
        "#Write a python program that converts each name into email address. The domain is given as gmail.\n",
        "names = ['Richard', 'Karam', 'Karpo', 'Sonam', 'Ugyen']\n",
        "domain = \"@gmail.com\"\n",
        "gmail_n = lambda names:names + domain\n",
        "gmail_n_condition = list (map(gmail_n, names))\n",
        "print (gmail_n_condition)\n",
        "for gmail in gmail_n_condition:\n",
        "    gmail_n_condition.split(\"@\")[1]\n",
        "new_name = gmail_n_condition[0]\n",
        "new_domain = gmail_n_condition[1]\n",
        "# my_dict = {\"Email address\": gmail_n_condition}\n",
        "# my_dict\n"
      ],
      "metadata": {
        "id": "w-yEOXyy_Cnh"
      },
      "execution_count": null,
      "outputs": []
    },
    {
      "cell_type": "code",
      "source": [
        "# Write a lambda function that takes a float \"cost\" and returns a float \"price\" by adding 10% to the cost.\n",
        "(lambda cost: cost + (cost*0.1)) (345)\n",
        "(lambda cost: cost * 1.1)(345)\n"
      ],
      "metadata": {
        "id": "5EUCGGCu_Hpc"
      },
      "execution_count": null,
      "outputs": []
    },
    {
      "cell_type": "code",
      "source": [
        "#Write a python program that converts each name into email address. The domain is given as gmail.\n",
        "names = ['Richard', 'Karam', 'Karpo', 'Sonam', 'Ugyen']\n",
        "domain = \"@gmail.com\"\n",
        "emailaddress = [name + domain for name in names]\n",
        "\n",
        "first_email = emailaddress[0]\n",
        "name, extracted_domain = first_email.split('@')\n",
        "\n",
        "\n",
        "print (\"Extracted name:\", first_email)\n",
        "print (\"Extracted domain:\", extracted_domain)"
      ],
      "metadata": {
        "id": "_-V0013Q_LI6"
      },
      "execution_count": null,
      "outputs": []
    }
  ]
}